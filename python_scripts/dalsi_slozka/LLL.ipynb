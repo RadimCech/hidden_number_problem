{
 "cells": [
  {
   "cell_type": "code",
   "execution_count": 1,
   "metadata": {
    "vscode": {
     "languageId": "python"
    }
   },
   "outputs": [],
   "source": [
    "def compute_Gram_Schmidt(basis, GS_basis, GS_coefficients):\n",
    "    _dimension = len(basis.rows())\n",
    "    for j in range(_dimension):\n",
    "        GS_basis[:, j] = basis[:,j]\n",
    "        for i in range(j):\n",
    "            coefficient = (GS_basis.column(i) * basis.column(j)) / (GS_basis.column(i) * GS_basis.column(i))\n",
    "            GS_basis[:,j] -= coefficient * GS_basis[:,i]\n",
    "            GS_coefficients[j,i] = coefficient\n",
    "\n",
    "\n",
    "def find_reducedbasis(basis, GS_basis, GS_coefficients, _delta):\n",
    "    compute_Gram_Schmidt(basis, GS_basis, GS_coefficients)\n",
    "    _dimension = len(basis.rows())\n",
    "\n",
    "    k = 1 #we are indexing from 0 so k is shifted by -1\n",
    "    while k < _dimension:\n",
    "        for j in range(k-1, -1, -1):\n",
    "            if abs(GS_coefficients[k,j]) > 1/2:\n",
    "                basis[:,k] -= round(GS_coefficients[k,j]) * basis[:,j]\n",
    "                compute_Gram_Schmidt(basis, GS_basis, GS_coefficients)\n",
    "\n",
    "        if GS_basis.column(k) * GS_basis.column(k) > (_delta - (GS_coefficients[k,k-1])**2) * GS_basis.column(k-1) * GS_basis.column(k-1):\n",
    "            k += 1\n",
    "        else:\n",
    "            _swap_variable = basis[:,k]\n",
    "            basis[:,k] = basis[:,k-1]\n",
    "            basis[:,k-1] = _swap_variable\n",
    "            compute_Gram_Schmidt(basis, GS_basis, GS_coefficients)\n",
    "            k = max(k-1, 1)\n",
    "\n",
    "\n",
    "\n",
    "\n",
    "\n"
   ]
  },
  {
   "cell_type": "code",
   "execution_count": 2,
   "metadata": {
    "vscode": {
     "languageId": "python"
    }
   },
   "outputs": [
    {
     "name": "stdout",
     "output_type": "stream",
     "text": [
      "[ 1 -1  3]\n",
      "[ 1  0  5]\n",
      "[ 1  2  6]\n",
      "redukovana baze je:\n",
      "\n",
      "[ 0  1 -1]\n",
      "[ 1  0  0]\n",
      "[ 0  1  2]\n"
     ]
    }
   ],
   "source": [
    "basis = matrix(QQ,[[1,1,1], [-1,0,2], [3,5,6]])\n",
    "basis = basis.transpose()\n",
    "print(basis)\n",
    "\n",
    "dimension = len(basis.rows())\n",
    "\n",
    "# GM_coefficient[i,j] = <basis[i], basis[j]> / <basis[j], basis[j]>\n",
    "Gram_Schmidt_coefficients = zero_matrix(QQ, dimension, dimension) \n",
    "Gram_Schmidt_basis = zero_matrix(QQ, dimension, dimension)\n",
    "\n",
    "find_reduced_basis(basis, Gram_Schmidt_basis, Gram_Schmidt_coefficients, 3/4)\n",
    "\n",
    "print(\"redukovana baze je:\\n\")\n",
    "print(basis)\n"
   ]
  }
 ],
 "metadata": {
  "kernelspec": {
   "display_name": "SageMath 10.4",
   "language": "sage",
   "name": "sagemath"
  },
  "language_info": {
   "codemirror_mode": {
    "name": "ipython",
    "version": 3
   },
   "file_extension": ".py",
   "mimetype": "text/x-python",
   "name": "sage",
   "nbconvert_exporter": "python",
   "pygments_lexer": "ipython3",
   "version": "3.12.7"
  }
 },
 "nbformat": 4,
 "nbformat_minor": 2
}
