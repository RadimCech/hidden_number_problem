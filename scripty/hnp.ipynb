{
 "cells": [
  {
   "cell_type": "code",
   "execution_count": 2,
   "metadata": {
    "vscode": {
     "languageId": "python"
    }
   },
   "outputs": [],
   "source": [
    "import warnings\n",
    "warnings.filterwarnings(\"ignore\", category=DeprecationWarning)\n",
    "\n",
    "import numpy\n",
    "CC = ComplexField(32)\n",
    "pi = CC.pi()\n",
    "I = CC.gen()\n",
    "\n",
    "def generate_random_hnp_instance(leak_size, number_of_signatures, prime, key):\n",
    "    HNP_instance = []\n",
    "    bound = (prime-1) / 2**(leak_size+1)\n",
    "\n",
    "    for j in range(number_of_signatures):\n",
    "        c = randrange(1, prime)\n",
    "        k = randrange(-round(bound), floor(bound))\n",
    "        h = (k - c*key) % prime\n",
    "        HNP_instance.append([c, h])\n",
    "    return HNP_instance\n",
    "\n",
    "def sort_and_difference(hnp_instance, prime, number_of_iterations, bound_exponent):\n",
    "    new_instance = hnp_instance\n",
    "    for i in range(number_of_iterations):\n",
    "        new_instance.sort(key=lambda x:x[0])\n",
    "        helper_list = []\n",
    "        for j in range(len(new_instance)-1):\n",
    "            if i < len(new_instance)-2 | (new_instance[j+1][0]-new_instance[j][0]) < 2**bound_exponent:\n",
    "                helper_list.append(((new_instance[j+1][0]-new_instance[j][0]), (new_instance[j+1][1]-new_instance[j][1])% prime))\n",
    "        new_instance = helper_list.copy()\n",
    "    return new_instance\n",
    "\n",
    "def bleichenbacher(hnp_instance, prime, bound_exponent):\n",
    "    z = [0] * (2**bound_exponent + 1)\n",
    "    for i in range(len(hnp_instance)-1):\n",
    "        z[hnp_instance[i][0]] += (1/len(hnp_instance)) * exp(2*pi*I* hnp_instance[i][1]/prime)\n",
    "    frequencies = numpy.fft.ifft(z)\n",
    "    magnitudes = numpy.abs(frequencies)\n",
    "    \n",
    "    return numpy.argmax(magnitudes)*prime/(2**(bound_exponent))\n",
    "\n",
    "def transform_hnp_instance_to_lattice_reduction_form(hnp_instance, prime):\n",
    "    for i in range(len(hnp_instance)):\n",
    "        hnp_instance[i][0] = (-1 * hnp_instance[i][0]) % prime\n",
    "\n",
    "def nearest_plane_recursive(basis, GM_basis, x, dimension):\n",
    "    dimension -= 1\n",
    "\n",
    "    if dimension == 0:\n",
    "        delta = round(x *  GM_basis.column(dimension))\n",
    "        return delta * basis.column(dimension)\n",
    "\n",
    "    gamma_d = x *  GM_basis.column(dimension)\n",
    "    \n",
    "    delta = round(gamma_d)\n",
    "    \n",
    "    v = delta * basis.column(dimension)\n",
    "    x_prime = x - v\n",
    "    \n",
    "    y = nearest_plane_recursive(basis, GM_basis, x_prime, dimension)\n",
    "    \n",
    "    return y + v\n",
    "\n",
    "\n"
   ]
  },
  {
   "cell_type": "code",
   "execution_count": 117,
   "metadata": {
    "vscode": {
     "languageId": "python"
    }
   },
   "outputs": [
    {
     "name": "stdout",
     "output_type": "stream",
     "text": [
      "18.931568569324174\n",
      "490587.99044799805\n",
      "the original key is:  0b1111010000100100000\n",
      "we recovered: 0b10010011000100\n"
     ]
    }
   ],
   "source": [
    "import math\n",
    "\n",
    "LEAK_SIZE = 1\n",
    "NUMBER_OF_SIGNATURES = 5000\n",
    "NUMBER_OF_RECOVERED_MSB = 15 #maximalni velikost fft\n",
    "\n",
    "prime = 600979  \n",
    "key = 500000\n",
    "\n",
    "print(math.log2(key))\n",
    "\n",
    "hnp_instance = generate_random_hnp_instance(LEAK_SIZE, NUMBER_OF_SIGNATURES, prime, key)\n",
    "\n",
    "hnp_instance = sort_and_difference(hnp_instance, prime, 2, NUMBER_OF_RECOVERED_MSB)\n",
    "\n",
    "msb_of_key = bleichenbacher(hnp_instance, prime, NUMBER_OF_RECOVERED_MSB)\n",
    "\n",
    "print(msb_of_key)\n",
    "print(\"the original key is: \", bin(key))\n",
    "print(\"we recovered:\", bin(int(round(key - msb_of_key))))"
   ]
  },
  {
   "cell_type": "code",
   "execution_count": null,
   "metadata": {
    "vscode": {
     "languageId": "python"
    }
   },
   "outputs": [
    {
     "name": "stdout",
     "output_type": "stream",
     "text": [
      "(5.5453888439785347e+73, -1.293413066652456e+72, -1.317011327262346e+74, 1.4250332337420564e+74, -6.145761235391087e+73, -4.64084522776035e+73, -3.5786801054569994e+73, -5.539817357138404e+73, -5.5365732553412916e+73, -7.742006044875815e+73, 1.3548898838762684e+74, -8.000265892987037e+73, -2.4604485358486344e+73, -6.311281613359404e+73, 4.655232303237724e+73, -8.967858111639292e+73, 1.4161330920609597e+74, 3.608370973165842e+73, 1.2123817080401967e+73, 1.0832517839845846e+74, -1.399489382588719e+74, -1.389150533359884e+74, 7.745744098207754e+73, 1.2376857020576768e+74, -3.593983897688467e+73, 1.14746407894016e+74, -1.380525406705016e+74, -1.3359259079925658e+74, -9.07956824103005e+73, 1.261424158961639e+74, -5.422535740907515e+73, 5.357159753430431e+73, 2.2527548345178532e+73, 1.3201637573840495e+74, -7.943705494147197e+73, 6.970541788654817e+73, 7.698916004759253e+73, 1.1326186450857381e+73, -7.955765184581555e+73, 1.0186234071738884e+74, -5.3974996432847074e+73, -1.3942494245598555e+74, -1.0871024296191934e+74, -2.779429601350907e+73, -2.4692641244858777e+73, 1.1325834871953677e+74, 6.12926033381738e+72, 7.596444229225005e+73, -2.586826133304912e+72, 3.4168977808206245e+72, 8.182006779940917e+73, 9.888128285308212e+73, -8.45366580045986e+73, 3.4015939885891556e+73, 8.14907181043496e+73, 1.4086222627741174e+74, 2.096966761940877e+73, 5.628818773949373e+73, 3.916209064987853e+73, -1.226881375820239e+74, 1.2688855930949988e+74, 6.420241592487878e+73, 1.0679551103846715e+74, 9.188528220158523e+73, -4.2287019268959e+73, 5.155460304159047e+73, -9.490443246236698e+72, -1.852177272552932e+73, 4.2917505293299665e+73, 1.0191805558579015e+74, 1.3227590388217394e+74, 6.836122946684268e+73, 3.458505966332702e+72, -9.403626841837625e+73, -9.529301281486491e+73, -9.72028052229688e+73, -8.414736578894506e+73, -4.91299819981412e+73, -4.992761262768579e+73, -5.5945443224700554e+73, -7.41378662551703e+73, -8.151399195477979e+73, 2.076489674692156e+69, -2.787673235126478e+69, -2.2602165345625793e+69, 2.2334577241589442e+68, 1.3417296566186649e+69, -1.7930260616031496e+69, -2.4859818906922123e+68, -1.2802114525103216e+69, -1.0650992609651698e+69, -8.186019791382465e+68, -1.1690373458824241e+68, 1.768749784384472e+69, 1.4855622497089826e+69, 1.9734002791690335e+69, -1.1008133743790868e+69, -3.57446565863806e+69, -8.02835119810861e+68, 1.699125208052936e+68, 1.8721904890453084e+63)\n"
     ]
    }
   ],
   "source": [
    "\n",
    "LEAK_SIZE = 5\n",
    "NUMBER_OF_SIGNATURES = 200\n",
    "\n",
    "prime = 33233\n",
    "key = 30000\n",
    "\n",
    "hnp_instance = generate_random_hnp_instance(LEAK_SIZE, NUMBER_OF_SIGNATURES, prime, key)\n",
    "\n",
    "transform_hnp_instance_to_lattice_reduction_form(hnp_instance, prime)\n",
    "\n",
    "\n",
    "basis = matrix(len(hnp_instance) + 1)\n",
    "basis[len(hnp_instance), len(hnp_instance)] = 1\n",
    "for i in range(len(hnp_instance)):\n",
    "    basis[i,i] = prime * prime\n",
    "    basis[len(hnp_instance), i] = hnp_instance[i][0]*prime\n",
    "\n",
    "\n",
    "reduced_basis = basis.LLL(delta=3/4)\n",
    "reduced_basis = reduced_basis * (1/prime)\n",
    "\n",
    "target = zero_vector(RDF, len(hnp_instance)+1)\n",
    "for i in range(len(hnp_instance)):\n",
    "    target[i] = hnp_instance[i][1]\n",
    "\n",
    "\n",
    "\n",
    "reduced_basis = reduced_basis.transpose()\n",
    "reduced_basis = reduced_basis.change_ring(RDF)\n",
    "gramm_schmidt_basis, coefficients = reduced_basis.QR()\n",
    "\n",
    "#nearest plane\n",
    "b = vector(target)\n",
    "\n",
    "for i in range(len(b)-1, -1, -1):\n",
    "    b = b - reduced_basis.column(i) * round(b * gramm_schmidt_basis.column(i))\n",
    "    \n",
    "print(target - b)\n"
   ]
  }
 ],
 "metadata": {
  "kernelspec": {
   "display_name": "SageMath 10.4",
   "language": "sage",
   "name": "sagemath"
  },
  "language_info": {
   "codemirror_mode": {
    "name": "ipython",
    "version": 3
   },
   "file_extension": ".py",
   "mimetype": "text/x-python",
   "name": "sage",
   "nbconvert_exporter": "python",
   "pygments_lexer": "ipython3",
   "version": "3.12.7"
  }
 },
 "nbformat": 4,
 "nbformat_minor": 2
}
