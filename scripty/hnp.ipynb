{
 "cells": [
  {
   "cell_type": "code",
   "execution_count": null,
   "metadata": {
    "vscode": {
     "languageId": "python"
    }
   },
   "outputs": [],
   "source": [
    "import numpy\n",
    "CC = ComplexField(32)\n",
    "pi = CC.pi()\n",
    "I = CC.gen()\n",
    "\n",
    "def generate_random_hnp_instance(leak_size, number_of_signatures, prime, key):\n",
    "    HNP_instance = []\n",
    "    bound = (prime-1) / 2**(leak_size+1)\n",
    "\n",
    "    for j in range(number_of_signatures):\n",
    "        c = randrange(1, prime)\n",
    "        k = randrange(-round(bound), floor(bound))\n",
    "        h = (k - c*key) % prime\n",
    "        HNP_instance.append((c, h))\n",
    "    return HNP_instance\n",
    "\n",
    "def sort_and_difference(hnp_instance, number_of_iterations, prime):\n",
    "    new_instance = hnp_instance\n",
    "    for i in range(number_of_iterations):\n",
    "        new_instance.sort(key=lambda x:x[0])\n",
    "        helper_list = []\n",
    "        for j in range(len(new_instance)-1):\n",
    "            helper_list.append(((new_instance[j+1][0]-new_instance[j][0]), (new_instance[j+1][1]-new_instance[j][1])% prime))\n",
    "        new_instance = helper_list.copy()\n",
    "    return new_instance\n",
    "\n",
    "def bleichenbacher(hnp_instance, prime):\n",
    "    n = max(hnp_instance, key=lambda x: x[0])[0]\n",
    "    print(n)\n",
    "    z = [0] * (n+1)\n",
    "    for i in range(len(hnp_instance)-1):\n",
    "        z[hnp_instance[i][0]] += (1/len(hnp_instance)) * exp(2*pi*I* hnp_instance[i][1]/prime)\n",
    "    frequencies = numpy.fft.ifft(z)\n",
    "    magnitudes = numpy.abs(frequencies)\n",
    "    \n",
    "    return numpy.argmax(magnitudes)*prime/(2*n)\n",
    "\n",
    "def transform_hnp_instance_to_lattice_reduction_form(hnp_instance, prime):\n",
    "    for i in range(len(hnp_instance)):\n",
    "        hnp_instance[i][1] = -1 * hnp_instance[i][1] % prime \n"
   ]
  },
  {
   "cell_type": "code",
   "execution_count": null,
   "metadata": {
    "vscode": {
     "languageId": "python"
    }
   },
   "outputs": [
    {
     "name": "stderr",
     "output_type": "stream",
     "text": [
      "/tmp/ipykernel_7384/3796661791.py:12: DeprecationWarning: the default rounding for rationals, currently `away`, will be changed to `even`.\n",
      "See https://github.com/sagemath/sage/issues/35473 for details.\n",
      "  k = randrange(-round(bound), floor(bound))\n"
     ]
    },
    {
     "name": "stdout",
     "output_type": "stream",
     "text": [
      "362614\n",
      "21441736543.632484\n"
     ]
    }
   ],
   "source": [
    "\n",
    "LEAK_SIZE = 4\n",
    "NUMBER_OF_SIGNATURES = 100000\n",
    "\n",
    "prime = 1012115836375\n",
    "key = 7497057881\n",
    "\n",
    "hnp_instance = generate_random_hnp_instance(LEAK_SIZE, NUMBER_OF_SIGNATURES, prime, key)\n",
    "\n",
    "#hnp_instance = sort_and_difference(hnp_instance, 5, prime)\n",
    "\n",
    "#print(bleichenbacher(hnp_instance, prime))\n",
    "\n",
    "#timhle se to mozna dojebe :D\n",
    "transform_hnp_instance_to_lattice_reduction_form(hnp_instance, prime)\n",
    "\n",
    "#find reduced basis and target vector\n",
    "basis = matrix(len(hnp_instance) + 1, sparse=True)\n",
    "basis[len(hnp_instance) + 1, len(hnp_instance) + 1] = 1/prime\n",
    "for i in range(len(hnp_instance)):\n",
    "    basis[i,i] = prime\n",
    "    basis[len(hnp_instance)+1, i] = hnp_instance[i][0]\n",
    "\n",
    "reduced_basis = basis.LLL()\n",
    "target = [0] * (len(hnp_instance) + 1)\n",
    "\n",
    "for i in range(len(hnp_instance)):\n",
    "    target[i] = hnp_instance[i][1]\n",
    "\n",
    "#apply the nearest plane procedure to the target vector\n",
    "\n",
    "#switch to column representation\n",
    "reduced_basis = reduced_basis.transpose()\n",
    "gramm_schmidt_basis, coefficients = reduced_basis.QR()\n",
    "\n",
    "#nearest plane\n",
    "b = target.copy()\n",
    "for i in range(len(hnp_instance)):\n",
    "    b = b - reduced_basis.column(i) * gramm_schmidt_basis.column(i)\n",
    "\n",
    "\n",
    "print(\"if this isnt 1 then divide the above term\", gramm_schmidt_basis.column(1) * gramm_schmidt_basis.column(1))\n",
    "\n",
    "print(target - b)\n",
    "print(\"the private key is:\", (target-b)[len(hnp_instance)])\n",
    "\n",
    "\n",
    "\n",
    "\n"
   ]
  }
 ],
 "metadata": {
  "kernelspec": {
   "display_name": "SageMath 10.4",
   "language": "sage",
   "name": "sagemath"
  },
  "language_info": {
   "codemirror_mode": {
    "name": "ipython",
    "version": 3
   },
   "file_extension": ".py",
   "mimetype": "text/x-python",
   "name": "sage",
   "nbconvert_exporter": "python",
   "pygments_lexer": "ipython3",
   "version": "3.12.7"
  }
 },
 "nbformat": 4,
 "nbformat_minor": 2
}
